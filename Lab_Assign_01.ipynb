{
  "nbformat": 4,
  "nbformat_minor": 0,
  "metadata": {
    "colab": {
      "provenance": []
    },
    "kernelspec": {
      "name": "python3",
      "display_name": "Python 3"
    },
    "language_info": {
      "name": "python"
    }
  },
  "cells": [
    {
      "cell_type": "code",
      "execution_count": 14,
      "metadata": {
        "colab": {
          "base_uri": "https://localhost:8080/"
        },
        "id": "xUsoNLJOsNyG",
        "outputId": "c37cbd87-6202-4a9c-bc5c-7dd9fac1daeb"
      },
      "outputs": [
        {
          "output_type": "stream",
          "name": "stdout",
          "text": [
            "BFS Traversal:\n",
            "Karachi\n",
            "Rawalpindi\n",
            "Multan\n",
            "Islamabad\n",
            "Lahore\n",
            "Hyderabad\n",
            "Gilgit\n",
            "\n",
            "DFS Traversal:\n",
            "Islamabad Gilgit Lahore "
          ]
        }
      ],
      "source": [
        "from collections import deque\n",
        "\n",
        "graph = {\n",
        "    'Karachi': ['Rawalpindi', 'Multan'],\n",
        "    'Multan': ['Lahore', 'Hyderabad'],\n",
        "    'Hyderabad': ['Karachi', 'Multan'],\n",
        "    'Rawalpindi': ['Islamabad'],\n",
        "    'Islamabad': ['Gilgit'],\n",
        "    'Gilgit': ['Lahore'],\n",
        "    'Lahore': ['Islamabad']\n",
        "}\n",
        "\n",
        "def BFS(start):\n",
        "    visited = set()\n",
        "    queue = deque([start])\n",
        "    while queue:\n",
        "        node = queue.popleft()\n",
        "        if node not in visited:\n",
        "            print(node)\n",
        "            visited.add(node)\n",
        "            queue.extend(graph[node])\n",
        "\n",
        "def DFS(start, visited=None):\n",
        "    if visited is None:\n",
        "        visited = set()\n",
        "    print(start, end=' ')\n",
        "    visited.add(start)\n",
        "    for neighbor in graph[start]:\n",
        "        if neighbor not in visited:\n",
        "            DFS(neighbor, visited)\n",
        "\n",
        "print(\"BFS Traversal:\")\n",
        "BFS('Karachi')\n",
        "\n",
        "print(\"\\nDFS Traversal:\")\n",
        "DFS('Islamabad')\n"
      ]
    },
    {
      "cell_type": "code",
      "source": [
        "from collections import deque\n",
        "import time\n",
        "import tracemalloc\n",
        "\n",
        "# Jug capacities and goal\n",
        "JUG1 = 4\n",
        "JUG2 = 3\n",
        "GOAL = 2\n",
        "START = (0, 0)\n",
        "\n",
        "# Function to get possible next moves\n",
        "def next_states(state):\n",
        "    a, b = state\n",
        "    states = set()\n",
        "\n",
        "    # Fill jugs\n",
        "    states.add((JUG1, b))\n",
        "    states.add((a, JUG2))\n",
        "    # Empty jugs\n",
        "    states.add((0, b))\n",
        "    states.add((a, 0))\n",
        "    # Pour from one jug to another\n",
        "    pour = min(a, JUG2 - b)\n",
        "    states.add((a - pour, b + pour))\n",
        "    pour = min(b, JUG1 - a)\n",
        "    states.add((a + pour, b - pour))\n",
        "\n",
        "    return states\n",
        "\n",
        "# BFS (Breadth First Search)\n",
        "def BFS(start):\n",
        "    visited = set()\n",
        "    queue = deque([(start, [start])])\n",
        "    steps = 0\n",
        "\n",
        "    while queue:\n",
        "        state, path = queue.popleft()\n",
        "        steps += 1\n",
        "\n",
        "        if GOAL in state:\n",
        "            return path, steps\n",
        "\n",
        "        visited.add(state)\n",
        "        for s in next_states(state):\n",
        "            if s not in visited:\n",
        "                queue.append((s, path + [s]))\n",
        "\n",
        "# DFS (Depth First Search)\n",
        "def DFS(start):\n",
        "    stack = [(start, [start])]\n",
        "    visited = set()\n",
        "    steps = 0\n",
        "\n",
        "    while stack:\n",
        "        state, path = stack.pop()\n",
        "        steps += 1\n",
        "\n",
        "        if GOAL in state:\n",
        "            return path, steps\n",
        "\n",
        "        visited.add(state)\n",
        "        for s in next_states(state):\n",
        "            if s not in visited:\n",
        "                stack.append((s, path + [s]))\n",
        "\n",
        "# Compare BFS and DFS\n",
        "def compare():\n",
        "    print(\"=== Water Jug Problem ===\")\n",
        "\n",
        "    # BFS\n",
        "    tracemalloc.start()\n",
        "    t1 = time.time()\n",
        "    bfs_path, bfs_steps = BFS(START)\n",
        "    bfs_time = time.time() - t1\n",
        "    bfs_memory = tracemalloc.get_traced_memory()[1]\n",
        "    tracemalloc.stop()\n",
        "\n",
        "    # DFS\n",
        "    tracemalloc.start()\n",
        "    t2 = time.time()\n",
        "    dfs_path, dfs_steps = DFS(START)\n",
        "    dfs_time = time.time() - t2\n",
        "    dfs_memory = tracemalloc.get_traced_memory()[1]\n",
        "    tracemalloc.stop()\n",
        "\n",
        "    # Print results\n",
        "    print(\"\\nBFS Path:\", bfs_path)\n",
        "    print(\"BFS Steps:\", bfs_steps)\n",
        "    print(\"BFS Time: %.6f sec\" % bfs_time)\n",
        "    print(\"BFS Memory:\", bfs_memory, \"bytes\")\n",
        "\n",
        "    print(\"\\nDFS Path:\", dfs_path)\n",
        "    print(\"DFS Steps:\", dfs_steps)\n",
        "    print(\"DFS Time: %.6f sec\" % dfs_time)\n",
        "    print(\"DFS Memory:\", dfs_memory, \"bytes\")\n",
        "\n",
        "    print(\"\\nSummary:\")\n",
        "    print(\"BFS finds the shortest path but uses more memory.\")\n",
        "    print(\"DFS may use less memory but not always shortest.\")\n",
        "\n",
        "compare()\n"
      ],
      "metadata": {
        "colab": {
          "base_uri": "https://localhost:8080/"
        },
        "id": "kqnuGsVf-3WW",
        "outputId": "15b0e04c-99e8-4adf-e19e-3499a0a5f7e4"
      },
      "execution_count": 28,
      "outputs": [
        {
          "output_type": "stream",
          "name": "stdout",
          "text": [
            "=== Water Jug Problem ===\n",
            "\n",
            "BFS Path: [(0, 0), (0, 3), (3, 0), (3, 3), (4, 2)]\n",
            "BFS Steps: 12\n",
            "BFS Time: 0.000236 sec\n",
            "BFS Memory: 2432 bytes\n",
            "\n",
            "DFS Path: [(0, 0), (0, 3), (4, 3), (4, 0), (1, 3), (1, 0), (0, 1), (4, 1), (2, 3)]\n",
            "DFS Steps: 9\n",
            "DFS Time: 0.000150 sec\n",
            "DFS Memory: 1736 bytes\n",
            "\n",
            "Summary:\n",
            "BFS finds the shortest path but uses more memory.\n",
            "DFS may use less memory but not always shortest.\n"
          ]
        }
      ]
    },
    {
      "cell_type": "code",
      "source": [
        "import heapq\n",
        "\n",
        "maze = {\n",
        "    'A': ['B', 'F'],\n",
        "    'B': ['A', 'C'],\n",
        "    'C': ['B', 'D'],\n",
        "    'D': ['C', 'E'],\n",
        "    'E': ['D'],\n",
        "    'F': ['A', 'G'],\n",
        "    'G': ['F', 'H'],\n",
        "    'H': ['G', 'I'],\n",
        "    'I': ['H', 'J'],\n",
        "    'J': ['I', 'K'],\n",
        "    'K': ['J'],\n",
        "    'M': ['N'],\n",
        "    'N': ['M', 'O'],\n",
        "    'O': ['N', 'P'],\n",
        "    'P': ['O', 'Q'],\n",
        "    'Q': ['P'],\n",
        "    'R': ['S'],\n",
        "    'S': ['R', 'T'],\n",
        "    'T': ['S', 'U'],\n",
        "    'U': ['T', 'V'],\n",
        "    'V': ['U'],\n",
        "    'W': ['X'],\n",
        "    'X': ['W', 'Y'],\n",
        "    'Y': ['X']\n",
        "}\n",
        "\n",
        "heuristic = {node: abs(ord('Y') - ord(node)) for node in maze}\n",
        "\n",
        "def a_star(start, goal):\n",
        "    open_set = [(0 + heuristic[start], 0, start, [])]\n",
        "    visited = set()\n",
        "    while open_set:\n",
        "        est_total, cost, node, path = heapq.heappop(open_set)\n",
        "        if node in visited:\n",
        "            continue\n",
        "        visited.add(node)\n",
        "        path = path + [node]\n",
        "        if node == goal:\n",
        "            return path\n",
        "        for neighbor in maze.get(node, []):\n",
        "            if neighbor not in visited:\n",
        "                heapq.heappush(open_set, (cost + 1 + heuristic[neighbor], cost + 1, neighbor, path))\n",
        "    return None\n",
        "\n",
        "path = a_star('A', 'Y')\n",
        "print(\"A* Path from A to Y:\", path)"
      ],
      "metadata": {
        "colab": {
          "base_uri": "https://localhost:8080/"
        },
        "id": "YFjgIr1V_lJX",
        "outputId": "c141b5ba-98e9-4023-e07b-f7ebba46a99c"
      },
      "execution_count": 29,
      "outputs": [
        {
          "output_type": "stream",
          "name": "stdout",
          "text": [
            "A* Path from A to Y: None\n"
          ]
        }
      ]
    },
    {
      "cell_type": "code",
      "source": [
        "student = {\n",
        "    'name':\"Yawar Hussain\",\n",
        "    'age':21,\n",
        "    'roll_no':122,\n",
        "    'Grade':'B'\n",
        "}\n",
        "# Print all keys and values.\n",
        "print(student)\n",
        "# Update Grade\n",
        "student['Grade'] = 'A'\n",
        "print(\"Update student Grade \")\n",
        "print(student)\n",
        "#Add a new key email with a value\n",
        "student['email'] = \"yawar123@gmail.com\"\n",
        "print(student)\n",
        "#Delete the roll_number key.\n",
        "del student['roll_no']\n",
        "print(student)"
      ],
      "metadata": {
        "colab": {
          "base_uri": "https://localhost:8080/"
        },
        "id": "oLzol8o8t6h9",
        "outputId": "4ebd54db-18f2-4411-eaca-4f8a960351ea"
      },
      "execution_count": 19,
      "outputs": [
        {
          "output_type": "stream",
          "name": "stdout",
          "text": [
            "{'name': 'Yawar Hussain', 'age': 21, 'roll_no': 122, 'Grade': 'B'}\n",
            "Update student Grade \n",
            "{'name': 'Yawar Hussain', 'age': 21, 'roll_no': 122, 'Grade': 'A'}\n",
            "{'name': 'Yawar Hussain', 'age': 21, 'roll_no': 122, 'Grade': 'A', 'email': 'yawar123@gmail.com'}\n",
            "{'name': 'Yawar Hussain', 'age': 21, 'Grade': 'A', 'email': 'yawar123@gmail.com'}\n"
          ]
        }
      ]
    },
    {
      "cell_type": "code",
      "source": [
        "import matplotlib.pyplot as plt\n",
        "\n",
        "x = [1,2,3,4,5]\n",
        "y = [2,4,6,8,10]\n",
        "\n",
        "plt.plot(x,y)\n",
        "plt.title(\"Simple Line Plot\")\n",
        "plt.xlabel(\"x-axis\")\n",
        "plt.ylabel(\"y-axis\")\n",
        "plt.grid(True)\n",
        "plt.show()"
      ],
      "metadata": {
        "colab": {
          "base_uri": "https://localhost:8080/",
          "height": 472
        },
        "id": "GaDLk2Jj6IUy",
        "outputId": "0b63e641-1741-4d13-ff2b-6b6c6e54347e"
      },
      "execution_count": 25,
      "outputs": [
        {
          "output_type": "display_data",
          "data": {
            "text/plain": [
              "<Figure size 640x480 with 1 Axes>"
            ],
            "image/png": "[encoded data removed]"
          },
          "metadata": {}
        }
      ]
    }
  ]
}