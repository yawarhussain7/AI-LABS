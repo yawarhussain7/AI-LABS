{
  "nbformat": 4,
  "nbformat_minor": 0,
  "metadata": {
    "colab": {
      "provenance": []
    },
    "kernelspec": {
      "name": "python3",
      "display_name": "Python 3"
    },
    "language_info": {
      "name": "python"
    }
  },
  "cells": [
    {
      "cell_type": "code",
      "execution_count": 42,
      "metadata": {
        "colab": {
          "base_uri": "https://localhost:8080/"
        },
        "id": "Uh-prZC0GXPY",
        "outputId": "e2add239-c6c5-4f51-b515-ff9811c41c82"
      },
      "outputs": [
        {
          "output_type": "stream",
          "name": "stdout",
          "text": [
            "A* Path: ['Skardu', 'Khaplu']\n",
            "Total Cost: 270\n"
          ]
        }
      ],
      "source": [
        "import heapq\n",
        "\n",
        "graph = {\n",
        "    \"Skardu\": {\"Khaplu\": 270, \"Gilgit\": 180},\n",
        "    \"Gilgit\": {\"Roundu\": 270, \"Kachura\": 190, \"Skardu\": 180},\n",
        "    \"Khaplu\": {\"Skardu\": 270, \"Kharmang\": 220},\n",
        "    \"Roundu\": {\"Skardu\": 220, \"Gilgit\": 880},\n",
        "    \"Nagar\": {\"Hunza\": 170},\n",
        "    \"Hunza\": {\"Ghizar\": 880},\n",
        "    \"Kharmang\": {\"Hunza\":390, \"Skardu\":90},\n",
        "    \"Kachura\": {\"Gilgit\":130,\"Skardu\":60},\n",
        "    \"Ghizar\": {\"Hunza\":120,\"Khaplu\":990}\n",
        "}\n",
        "\n",
        "heuristic = {\n",
        "    \"Gilgit\": 1210,\n",
        "    \"Skardu\": 1100,\n",
        "    \"Khaplu\": 1050,\n",
        "    \"Kharmang\": 880,\n",
        "    \"Hunza\": 1250,\n",
        "    \"Nagar\": 0,\n",
        "    \"Roundu\": 1300,\n",
        "    \"Kachura\": 1000,\n",
        "    \"Ghizar\": 1400\n",
        "}\n",
        "\n",
        "def A_Star(graph, start, goal, heuristic):\n",
        "    open_list = []\n",
        "    heapq.heappush(open_list, (heuristic[start], [start]))\n",
        "    g_costs = {start: 0}\n",
        "    closed_set = set()\n",
        "\n",
        "    while open_list:\n",
        "        f, path = heapq.heappop(open_list)\n",
        "        node = path[-1]\n",
        "\n",
        "        if node == goal:\n",
        "            return path, g_costs[node]\n",
        "\n",
        "        if node in closed_set:\n",
        "            continue\n",
        "\n",
        "        closed_set.add(node)\n",
        "\n",
        "        for neighbor, cost in graph[node].items():\n",
        "            tentative_g = g_costs[node] + cost\n",
        "\n",
        "            if neighbor not in g_costs or tentative_g < g_costs[neighbor]:\n",
        "                g_costs[neighbor] = tentative_g\n",
        "                f_cost = tentative_g + heuristic.get(neighbor, float('inf'))\n",
        "                new_path = path + [neighbor]\n",
        "                heapq.heappush(open_list, (f_cost, new_path))\n",
        "\n",
        "    return None, float('inf')\n",
        "\n",
        "\n",
        "if __name__ == \"__main__\":\n",
        "    start_city = \"Skardu\"\n",
        "    goal_city = \"Khaplu\"\n",
        "    path, cost = A_Star(graph, start_city, goal_city, heuristic)\n",
        "    print(f\"A* Path: {path}\")\n",
        "    print(f\"Total Cost: {cost}\")\n"
      ]
    }
  ]
}