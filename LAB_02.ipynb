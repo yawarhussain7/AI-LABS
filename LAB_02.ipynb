{
  "nbformat": 4,
  "nbformat_minor": 0,
  "metadata": {
    "colab": {
      "provenance": [],
      "toc_visible": true
    },
    "kernelspec": {
      "name": "python3",
      "display_name": "Python 3"
    },
    "language_info": {
      "name": "python"
    }
  },
  "cells": [
    {
      "cell_type": "markdown",
      "source": [
        "# **Lists**"
      ],
      "metadata": {
        "id": "IWt2PQY74_Tm"
      }
    },
    {
      "cell_type": "code",
      "source": [
        "# create a list\n",
        "num = [1,2,3,4,5,6,7,8,9,10]\n",
        "print(f\"List: {num}\")\n",
        "\n",
        "# find the maximum value\n",
        "max_val = max(num)\n",
        "print(f\" Max value : {max_val}\")\n",
        "\n",
        "# find the minimum value\n",
        "min_val = min(num)\n",
        "print(f' Min value : {min_val}')\n",
        "\n",
        "# sum of all values\n",
        "sum_vals = sum(num)\n",
        "print(f' Sum : {sum_vals}')\n",
        "\n",
        "# add 11 in list\n",
        "num.append(11)\n",
        "print(f'New List: {num}')\n",
        "\n",
        "# remove 2 from the list\n",
        "num.remove(2)\n",
        "print(f'Update list : {num}')\n",
        "\n",
        "# assending order\n",
        "num.sort()\n",
        "print(f'Assending order : {num}')\n",
        "\n",
        "# decending order\n",
        "num.sort(reverse=True)\n",
        "print(f'Decending order : {num}')"
      ],
      "metadata": {
        "colab": {
          "base_uri": "https://localhost:8080/"
        },
        "id": "gZ0phAL4AME9",
        "outputId": "44c4a9b5-d837-4b6d-c6a5-1e3d5ee53169"
      },
      "execution_count": 17,
      "outputs": [
        {
          "output_type": "stream",
          "name": "stdout",
          "text": [
            "List: [1, 2, 3, 4, 5, 6, 7, 8, 9, 10]\n",
            " Max value : 10\n",
            " Min value : 1\n",
            " Sum : 55\n",
            "New List: [1, 2, 3, 4, 5, 6, 7, 8, 9, 10, 11]\n",
            "Update list : [1, 3, 4, 5, 6, 7, 8, 9, 10, 11]\n",
            "Assending order : [1, 3, 4, 5, 6, 7, 8, 9, 10, 11]\n",
            "Decending order : [11, 10, 9, 8, 7, 6, 5, 4, 3, 1]\n"
          ]
        }
      ]
    },
    {
      "cell_type": "markdown",
      "source": [
        "# **Tuple**"
      ],
      "metadata": {
        "id": "vjlhATzN5HqA"
      }
    },
    {
      "cell_type": "code",
      "source": [
        "# create a tuple with 5 fruits name\n",
        "fruits = ('Apple','Banana','Cherry','Mango','Orange')\n",
        "print(f'Fruits: {fruits}')\n",
        "\n",
        "# Modification\n",
        "# fruits.append('Grapes')\n",
        "# print(f'New fruits: {fruits}')\n",
        "\n",
        "#convert tuple into list\n",
        "List = list(fruits)\n",
        "List.append('Grapes')\n",
        "fruits = tuple(List)\n",
        "print(f'New fruits: {fruits}')\n"
      ],
      "metadata": {
        "colab": {
          "base_uri": "https://localhost:8080/"
        },
        "id": "RQaHsJFnErvZ",
        "outputId": "09be39f8-e296-4a6e-893d-2c9bdd0b997a"
      },
      "execution_count": 27,
      "outputs": [
        {
          "output_type": "stream",
          "name": "stdout",
          "text": [
            "Fruits: ('Apple', 'Banana', 'Cherry', 'Mango', 'Orange')\n",
            "New fruits: ('Apple', 'Banana', 'Cherry', 'Mango', 'Orange', 'Grapes')\n"
          ]
        }
      ]
    },
    {
      "cell_type": "markdown",
      "source": [
        "# **Sets**"
      ],
      "metadata": {
        "id": "DcxdFWGS5N3m"
      }
    },
    {
      "cell_type": "code",
      "source": [
        "# create a set\n",
        "std_01 = {\"Asif\",\"Hassam\",\"Yawar\"}\n",
        "std_02 = {\"Rehman\",\"Azan\",\"Bilal\"}\n",
        "print(f' BSE 6C Students: {std_01}')\n",
        "print(f' BSE 6B Students: {std_02}')\n"
      ],
      "metadata": {
        "colab": {
          "base_uri": "https://localhost:8080/"
        },
        "id": "Ny88_zoIH7Ni",
        "outputId": "e8c30dbe-efbf-4349-ae45-65272300e3e7"
      },
      "execution_count": 30,
      "outputs": [
        {
          "output_type": "stream",
          "name": "stdout",
          "text": [
            " BSE 6C Students: {'Yawar', 'Hassam', 'Asif'}\n",
            " BSE 6B Students: {'Rehman', 'Azan', 'Bilal'}\n",
            "Yawar\n",
            "Hassam\n",
            "Asif\n"
          ]
        }
      ]
    },
    {
      "cell_type": "markdown",
      "source": [
        "# **Dictionaries**"
      ],
      "metadata": {
        "id": "X6OKNGhT5S8f"
      }
    },
    {
      "cell_type": "code",
      "source": [
        "# create a dictionary of student\n",
        "std_info = {\n",
        "    'name': 'Yawar Hussain',\n",
        "    'reg_no': 'SP23-BSE-122',\n",
        "    'section': 'BSE 6C',\n",
        "    'Age':22,\n",
        "    'Gender':'Male'\n",
        "}\n",
        "# change the value of age\n",
        "std_info['Age'] = 23\n",
        "\n",
        "for key,value in std_info.items():\n",
        "  print(f'{key} : {value}')\n",
        "\n"
      ],
      "metadata": {
        "colab": {
          "base_uri": "https://localhost:8080/"
        },
        "id": "m-AlpGyTJDwF",
        "outputId": "aae759ea-66dc-4f5c-95d0-890f7e555510"
      },
      "execution_count": 33,
      "outputs": [
        {
          "output_type": "stream",
          "name": "stdout",
          "text": [
            "name : yawarhussain\n",
            "reg_no : SP23-BSE-122\n",
            "section : BSE 6C\n",
            "Age : 23\n",
            "Gender : Male\n"
          ]
        }
      ]
    },
    {
      "cell_type": "markdown",
      "source": [
        "# **Numpy**"
      ],
      "metadata": {
        "id": "BZdNz-9R5YCe"
      }
    },
    {
      "cell_type": "markdown",
      "source": [
        "# **Matlab**"
      ],
      "metadata": {
        "id": "juWltsnf5bvP"
      }
    }
  ]
}