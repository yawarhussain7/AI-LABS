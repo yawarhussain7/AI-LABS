{
  "nbformat": 4,
  "nbformat_minor": 0,
  "metadata": {
    "colab": {
      "provenance": []
    },
    "kernelspec": {
      "name": "python3",
      "display_name": "Python 3"
    },
    "language_info": {
      "name": "python"
    }
  },
  "cells": [
    {
      "cell_type": "code",
      "execution_count": 13,
      "metadata": {
        "colab": {
          "base_uri": "https://localhost:8080/"
        },
        "id": "vcj--OwGR3Gf",
        "outputId": "34e35e48-532c-4865-f9d6-3602a562c3e3"
      },
      "outputs": [
        {
          "output_type": "stream",
          "name": "stdout",
          "text": [
            "Optimal value: 5\n"
          ]
        }
      ],
      "source": [
        "def min_max(depth, node_index, maximizing_player, values, alpha, beta):\n",
        "    if depth == 3:\n",
        "        return values[node_index]\n",
        "\n",
        "    if maximizing_player:\n",
        "        best = float('-inf')\n",
        "\n",
        "        for i in range(0, 2):\n",
        "            val = min_max(depth + 1, node_index * 2 + i, False, values, alpha, beta)\n",
        "            best = max(best, val)\n",
        "            alpha = max(alpha, best)\n",
        "\n",
        "            if beta <= alpha:\n",
        "                break\n",
        "        return best\n",
        "\n",
        "    else:\n",
        "        best = float('inf')\n",
        "\n",
        "        for i in range(0, 2):\n",
        "            val = min_max(depth + 1, node_index * 2 + i, True, values, alpha, beta)\n",
        "            best = min(best, val)\n",
        "            beta = min(beta, best)\n",
        "\n",
        "            if beta <= alpha:\n",
        "                break\n",
        "        return best\n",
        "\n",
        "\n",
        "if __name__ == \"__main__\":\n",
        "    values = [3, 5, 6, 9, 1, 2, 0, -1]\n",
        "    print(f\"Optimal value: {min_max(0, 0, True, values, float('-inf'), float('inf'))}\")\n"
      ]
    }
  ]
}