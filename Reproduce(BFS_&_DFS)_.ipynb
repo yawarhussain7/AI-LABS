{
  "nbformat": 4,
  "nbformat_minor": 0,
  "metadata": {
    "colab": {
      "provenance": []
    },
    "kernelspec": {
      "name": "python3",
      "display_name": "Python 3"
    },
    "language_info": {
      "name": "python"
    }
  },
  "cells": [
    {
      "cell_type": "code",
      "execution_count": 12,
      "metadata": {
        "colab": {
          "base_uri": "https://localhost:8080/"
        },
        "id": "YElKdxN07p-X",
        "outputId": "b0997918-a581-4ef2-bb87-8bb1dbbcd570"
      },
      "outputs": [
        {
          "output_type": "stream",
          "name": "stdout",
          "text": [
            "BFS shortest path from Gilgit to Khaplu : ['Gilgit', 'Skardu', 'Khaplu']\n",
            "DFS shortest path from Gilgit to Khaplu : ({'Gilgit': ['Skardu'], 'Skardu': ['Kharmang', 'Khaplu'], 'Kharmang': ['Astor', 'Nagar', 'Skardu'], 'Astor': ['Khaplu', 'Ghizer'], 'Ghizer': ['Diamer'], 'Diamer': ['Hunza', 'Roundu'], 'Hunza': ['Astor', 'Shiger'], 'Shiger': ['Skardu']}, 'Gilgit', 'Khaplu')\n"
          ]
        }
      ],
      "source": [
        "from collections import deque\n",
        "\n",
        "# list of the cities\n",
        "Gilgit_cities = {\n",
        "    'Gilgit': ['Skardu'],\n",
        "    'Skardu': ['Kharmang', 'Khaplu'],\n",
        "    'Kharmang': ['Astor', 'Nagar', 'Skardu'],\n",
        "    'Astor': ['Khaplu', 'Ghizer'],\n",
        "    'Ghizer': ['Diamer'],\n",
        "    'Diamer': ['Hunza', 'Roundu'],\n",
        "    'Hunza': ['Astor', 'Shiger'],\n",
        "    'Shiger': ['Skardu']\n",
        "}\n",
        "\n",
        "# BFS\n",
        "def BFS(graph, start, goal):\n",
        "    queue = deque([[start]])\n",
        "    # create a set which holde the visited cities to avoid repeation\n",
        "    visited = set()\n",
        "\n",
        "    while queue:\n",
        "        path = queue.popleft()\n",
        "        current_city = path[-1]\n",
        "        # if we find the goal then skip more search and return the goal\n",
        "        if current_city == goal:\n",
        "            return path\n",
        "\n",
        "        # if the current city not visited then add into the visited set\n",
        "        if current_city not in visited:\n",
        "            visited.add(current_city)\n",
        "            # check for each node parallely\n",
        "            for neighbor in graph.get(current_city, []):\n",
        "                new_path = list(path)\n",
        "                new_path.append(neighbor)\n",
        "                queue.append(new_path)\n",
        "\n",
        "    return None\n",
        "\n",
        "\n",
        "  # DFS\n",
        "\n",
        "def DFS(graph,start,goal,path=None,visited=None):\n",
        "    # if there is not path list then create empty path list to track the path\n",
        "    if path is None:\n",
        "      path = []\n",
        "  # if there is no visited set then create empty set to track the visited node\n",
        "    if visited is None:\n",
        "      visited = set()\n",
        "    # append the first node into path list\n",
        "    path.append(start)\n",
        "    # append node into visited list after visit it\n",
        "    visited.add(start)\n",
        "    # if you reach the goal then return the path and skip searching\n",
        "    if start == goal:\n",
        "      return path\n",
        "    # ensure deep searching untill reach the goal\n",
        "    for neighbor in graph.get(start,[]):\n",
        "      if neighbor not in visited:\n",
        "        #recursively call :\n",
        "        # replace start with neighbor node\n",
        "        # rest of the the node are path and visited are copy\n",
        "        result = DFS(graph,neighbor,goal,path.copy(),visited.copy())\n",
        "        # if result found then return result\n",
        "        if result:\n",
        "          return result\n",
        "    # if result not found then return None\n",
        "    return None\n",
        "\n",
        "# Calling\n",
        "start_city = \"Gilgit\"\n",
        "goal_city = \"Khaplu\"\n",
        "# invoke BFS\n",
        "bfs_result = BFS(Gilgit_cities, start_city, goal_city)\n",
        "\n",
        "print(f'BFS shortest path from {start_city} to {goal_city} : {bfs_result}')\n",
        "# invoke DFS\n",
        "dfs_result = (Gilgit_cities,start_city,goal_city)\n",
        "print(f'DFS shortest path from {start_city} to {goal_city} : {dfs_result}')\n"
      ]
    },
    {
      "cell_type": "code",
      "source": [],
      "metadata": {
        "id": "4eNhjNGWKBUw"
      },
      "execution_count": null,
      "outputs": []
    }
  ]
}